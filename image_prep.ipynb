{
 "cells": [
  {
   "cell_type": "code",
   "execution_count": 1,
   "metadata": {
    "collapsed": false
   },
   "outputs": [],
   "source": [
    "import numpy as np\n",
    "import os\n",
    "import cv2\n",
    "import pickle\n",
    "import matplotlib.pyplot as plt\n",
    "\n",
    "TRAIN_DIR = 'F:/dogs-vs-cats/train/'\n",
    "TEST_DIR = 'F:/dogs-vs-cats/test/'"
   ]
  },
  {
   "cell_type": "code",
   "execution_count": 2,
   "metadata": {
    "collapsed": false
   },
   "outputs": [],
   "source": [
    "IMAGE_SIZE = 150\n",
    "CHANNELS = 3\n",
    "pixel_depth = 255.0\n",
    "training_fraction = 0.8\n",
    "\n",
    "train_images = [TRAIN_DIR+i for i in os.listdir(TRAIN_DIR)] \n",
    "train_dogs =   [TRAIN_DIR+i for i in os.listdir(TRAIN_DIR) if 'dog' in i]\n",
    "train_cats =   [TRAIN_DIR+i for i in os.listdir(TRAIN_DIR) if 'cat' in i]\n",
    "test_images =  [TEST_DIR+i for i in os.listdir(TEST_DIR)]\n",
    "test_ids =     [i[:-4] for i in os.listdir(TEST_DIR)]\n",
    "\n",
    "\n",
    "TRAINING_AND_VALIDATION_SIZE_DOGS = int(len(train_dogs))\n",
    "TRAINING_AND_VALIDATION_SIZE_CATS = int(len(train_cats)) \n",
    "TRAINING_AND_VALIDATION_SIZE_ALL  = TRAINING_AND_VALIDATION_SIZE_DOGS + TRAINING_AND_VALIDATION_SIZE_CATS\n",
    "TRAINING_SIZE = int(training_fraction * TRAINING_AND_VALIDATION_SIZE_ALL)\n",
    "VALID_SIZE = TRAINING_AND_VALIDATION_SIZE_ALL - TRAINING_SIZE\n",
    "TEST_SIZE_ALL = len(test_images)\n",
    "\n",
    "train_images = train_dogs[:TRAINING_AND_VALIDATION_SIZE_DOGS] + train_cats[:TRAINING_AND_VALIDATION_SIZE_CATS]\n",
    "train_labels = np.array ((['dogs'] * TRAINING_AND_VALIDATION_SIZE_DOGS) + (['cats'] * TRAINING_AND_VALIDATION_SIZE_CATS))\n",
    "test_images =  test_images[:TEST_SIZE_ALL]"
   ]
  },
  {
   "cell_type": "code",
   "execution_count": 3,
   "metadata": {
    "collapsed": true
   },
   "outputs": [],
   "source": [
    "def read_image(file_path):\n",
    "    img = cv2.imread(file_path, cv2.IMREAD_COLOR)\n",
    "    if (img.shape[0] >= img.shape[1]):\n",
    "        resizeto = (IMAGE_SIZE, int (round (IMAGE_SIZE * (float (img.shape[1])  / img.shape[0]))));\n",
    "    else:\n",
    "        resizeto = (int (round (IMAGE_SIZE * (float (img.shape[0])  / img.shape[1]))), IMAGE_SIZE);\n",
    "    \n",
    "    img_resized = cv2.resize(img, (resizeto[1], resizeto[0]), interpolation=cv2.INTER_CUBIC)\n",
    "    img3 = cv2.copyMakeBorder(img_resized, 0, IMAGE_SIZE - img_resized.shape[0], 0,\n",
    "                              IMAGE_SIZE - img_resized.shape[1], cv2.BORDER_CONSTANT, 0)\n",
    "        \n",
    "    return img3[:,:,::-1]  #cv2 uses bgr, must reverse to get rgb\n",
    "\n",
    "def prep_data(images):\n",
    "    count = len(images)\n",
    "    data = np.ndarray((count, IMAGE_SIZE, IMAGE_SIZE, CHANNELS), dtype=np.float32)\n",
    "\n",
    "    for i, image_file in enumerate(images):\n",
    "        image = read_image(image_file);\n",
    "        image_data = np.array (image, dtype=np.float32);\n",
    "        image_data[:,:,0] = (image_data[:,:,0].astype(float) - pixel_depth / 2) / pixel_depth\n",
    "        image_data[:,:,1] = (image_data[:,:,1].astype(float) - pixel_depth / 2) / pixel_depth\n",
    "        image_data[:,:,2] = (image_data[:,:,2].astype(float) - pixel_depth / 2) / pixel_depth\n",
    "        \n",
    "        data[i] = image_data;  \n",
    "    return data"
   ]
  },
  {
   "cell_type": "code",
   "execution_count": 4,
   "metadata": {
    "collapsed": false
   },
   "outputs": [
    {
     "name": "stdout",
     "output_type": "stream",
     "text": [
      "Train shape: (25000, 150, 150, 3)\n",
      "Test shape: (12500, 150, 150, 3)\n"
     ]
    }
   ],
   "source": [
    "train_normalized = prep_data(train_images)\n",
    "test_normalized = prep_data(test_images)"
   ]
  },
  {
   "cell_type": "code",
   "execution_count": 5,
   "metadata": {
    "collapsed": false
   },
   "outputs": [
    {
     "name": "stdout",
     "output_type": "stream",
     "text": [
      "Training (20000, 150, 150, 3) (20000,)\n",
      "Validation (5000, 150, 150, 3) (5000,)\n",
      "Test (12500, 150, 150, 3)\n"
     ]
    }
   ],
   "source": [
    "#randomly shuffle data\n",
    "def randomize(dataset, labels):\n",
    "    permutation = np.random.permutation(labels.shape[0])\n",
    "    shuffled_dataset = dataset[permutation,:,:,:]\n",
    "    shuffled_labels = labels[permutation]\n",
    "    return shuffled_dataset, shuffled_labels\n",
    "\n",
    "train_dataset_rand, train_labels_rand = randomize(train_normalized, train_labels)\n",
    "\n",
    "#clear memory\n",
    "del train_normalized\n",
    "\n",
    "# split up into training + valid\n",
    "valid_dataset = train_dataset_rand[:VALID_SIZE,:,:,:]\n",
    "valid_labels = train_labels_rand[:VALID_SIZE]\n",
    "train_dataset = train_dataset_rand[VALID_SIZE:VALID_SIZE+TRAINING_SIZE,:,:,:]\n",
    "train_labels = train_labels_rand[VALID_SIZE:VALID_SIZE+TRAINING_SIZE]\n",
    "\n",
    "#clear memory\n",
    "del train_dataset_rand\n",
    "\n",
    "print ('Training', train_dataset.shape, train_labels.shape)\n",
    "print ('Validation', valid_dataset.shape, valid_labels.shape)\n",
    "print ('Test', test_normalized.shape)"
   ]
  },
  {
   "cell_type": "code",
   "execution_count": 6,
   "metadata": {
    "collapsed": false
   },
   "outputs": [],
   "source": [
    "np.save('F:/dogs-vs-cats/train_dataset.npy',train_dataset)\n",
    "np.save('F:/dogs-vs-cats/train_labels.npy',train_labels)\n",
    "np.save('F:/dogs-vs-cats/valid_dataset.npy',valid_dataset)\n",
    "np.save('F:/dogs-vs-cats/valid_labels.npy',valid_labels)\n",
    "np.save('F:/dogs-vs-cats/test_dataset.npy',test_normalized)\n",
    "np.save('F:/dogs-vs-cats/test_ids.npy',test_ids)"
   ]
  },
  {
   "cell_type": "code",
   "execution_count": null,
   "metadata": {
    "collapsed": true
   },
   "outputs": [],
   "source": []
  }
 ],
 "metadata": {
  "kernelspec": {
   "display_name": "Python 3",
   "language": "python",
   "name": "python3"
  },
  "language_info": {
   "codemirror_mode": {
    "name": "ipython",
    "version": 3
   },
   "file_extension": ".py",
   "mimetype": "text/x-python",
   "name": "python",
   "nbconvert_exporter": "python",
   "pygments_lexer": "ipython3",
   "version": "3.5.2"
  }
 },
 "nbformat": 4,
 "nbformat_minor": 0
}
